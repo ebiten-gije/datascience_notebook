{
 "cells": [
  {
   "cell_type": "code",
   "execution_count": 2,
   "id": "ec14d6a0",
   "metadata": {},
   "outputs": [
    {
     "data": {
      "text/plain": [
       "0    홍길동\n",
       "1     35\n",
       "dtype: object"
      ]
     },
     "execution_count": 2,
     "metadata": {},
     "output_type": "execute_result"
    }
   ],
   "source": [
    "# Series 데이터 티입: 동일 자료형을 가지는 1차원 데이터\n",
    "# Series 가 모여서 DateFrame 을 구성함\n",
    "\n",
    "# 리스트 자료를 Series 클래스에 전달해서 생성한다\n",
    "import pandas as pd\n",
    "s = pd.Series(['홍길동', 35])\n",
    "s\n",
    "# 인덱스를 별도로 부여하지 않으면 0부터 자동으로 부여"
   ]
  },
  {
   "cell_type": "code",
   "execution_count": 4,
   "id": "198f723b",
   "metadata": {},
   "outputs": [
    {
     "data": {
      "text/plain": [
       "name    홍길동\n",
       "age      28\n",
       "dtype: object"
      ]
     },
     "execution_count": 4,
     "metadata": {},
     "output_type": "execute_result"
    }
   ],
   "source": [
    "# 인덱스를 부여하고자 한다면 index 매개변수에 인덱스 목록을 제공\n",
    "s = pd.Series(['홍길동', 28], index=['name', 'age'])\n",
    "s"
   ]
  },
  {
   "cell_type": "code",
   "execution_count": 6,
   "id": "c58d56c3",
   "metadata": {},
   "outputs": [
    {
     "data": {
      "text/plain": [
       "('홍길동', 28)"
      ]
     },
     "execution_count": 6,
     "metadata": {},
     "output_type": "execute_result"
    }
   ],
   "source": [
    "# 시리즈에서 데이터를 추출할때, 인덱스 접근\n",
    "s['name'], s['age']"
   ]
  },
  {
   "cell_type": "code",
   "execution_count": 7,
   "id": "05b313c7",
   "metadata": {},
   "outputs": [
    {
     "data": {
      "text/plain": [
       "Index(['name', 'age'], dtype='object')"
      ]
     },
     "execution_count": 7,
     "metadata": {},
     "output_type": "execute_result"
    }
   ],
   "source": [
    "s.index"
   ]
  },
  {
   "cell_type": "code",
   "execution_count": 13,
   "id": "7f93b46c",
   "metadata": {},
   "outputs": [
    {
     "data": {
      "text/plain": [
       "0       0\n",
       "1       2\n",
       "2       4\n",
       "3       6\n",
       "4       8\n",
       "5      10\n",
       "6      12\n",
       "7      14\n",
       "8      16\n",
       "9      18\n",
       "10     20\n",
       "11     22\n",
       "12     24\n",
       "13     26\n",
       "14     28\n",
       "15     30\n",
       "16     32\n",
       "17     34\n",
       "18     36\n",
       "19     38\n",
       "20     40\n",
       "21     42\n",
       "22     44\n",
       "23     46\n",
       "24     48\n",
       "25     50\n",
       "26     52\n",
       "27     54\n",
       "28     56\n",
       "29     58\n",
       "30     60\n",
       "31     62\n",
       "32     64\n",
       "33     66\n",
       "34     68\n",
       "35     70\n",
       "36     72\n",
       "37     74\n",
       "38     76\n",
       "39     78\n",
       "40     80\n",
       "41     82\n",
       "42     84\n",
       "43     86\n",
       "44     88\n",
       "45     90\n",
       "46     92\n",
       "47     94\n",
       "48     96\n",
       "49     98\n",
       "50    100\n",
       "dtype: int64"
      ]
     },
     "execution_count": 13,
     "metadata": {},
     "output_type": "execute_result"
    }
   ],
   "source": [
    "# range 를 이용한 Series 생성\n",
    "# 0`~ 100 까지의 짝수의 Series\n",
    "s2= pd.Series(range(0, 101, 2))\n",
    "s2"
   ]
  },
  {
   "cell_type": "code",
   "execution_count": 12,
   "id": "add19d4b",
   "metadata": {},
   "outputs": [
    {
     "name": "stdout",
     "output_type": "stream",
     "text": [
      "0     80\n",
      "1     75\n",
      "2     90\n",
      "3    100\n",
      "4     65\n",
      "dtype: int64\n"
     ]
    },
    {
     "data": {
      "text/plain": [
       "count      5.000000\n",
       "mean      82.000000\n",
       "std       13.509256\n",
       "min       65.000000\n",
       "25%       75.000000\n",
       "50%       80.000000\n",
       "75%       90.000000\n",
       "max      100.000000\n",
       "dtype: float64"
      ]
     },
     "execution_count": 12,
     "metadata": {},
     "output_type": "execute_result"
    }
   ],
   "source": [
    "# 숫자 데이터로 이루어진 Series 라면 기초 통계량을 얻을 수 있음\n",
    "kor_s = pd.Series([80, 75, 90, 100, 65]) # 시리즈 생성\n",
    "print(kor_s)\n",
    "kor_s.describe() # 기초 통계량"
   ]
  },
  {
   "cell_type": "code",
   "execution_count": 15,
   "id": "6f8ee57d",
   "metadata": {},
   "outputs": [
    {
     "name": "stdout",
     "output_type": "stream",
     "text": [
      "65 100\n",
      "82.0 80.0\n",
      "13.509256086106296\n"
     ]
    }
   ],
   "source": [
    "# 통계량 함수\n",
    "print(kor_s.min(), kor_s.max())# c최솟값, 최댓값\n",
    "print(kor_s.mean(), kor_s.median()) # 산술 평균, 중앙값\n",
    "print(kor_s.std()) # 표준편차"
   ]
  },
  {
   "cell_type": "code",
   "execution_count": 16,
   "id": "f076183f",
   "metadata": {},
   "outputs": [
    {
     "data": {
      "text/plain": [
       "0    False\n",
       "1    False\n",
       "2    False\n",
       "3     True\n",
       "4    False\n",
       "dtype: bool"
      ]
     },
     "execution_count": 16,
     "metadata": {},
     "output_type": "execute_result"
    }
   ],
   "source": [
    "# isin: Series 에 값이 포함되어 있는지 여부를 판별\n",
    "kor_s.isin([100])"
   ]
  },
  {
   "cell_type": "code",
   "execution_count": 19,
   "id": "a3d9db9b",
   "metadata": {},
   "outputs": [
    {
     "name": "stdout",
     "output_type": "stream",
     "text": [
      "0     1\n",
      "1     5\n",
      "2     8\n",
      "3     4\n",
      "4     6\n",
      "5     1\n",
      "6    10\n",
      "dtype: int64\n",
      "s2 * 2:\n",
      " 0     2\n",
      "1    10\n",
      "2    16\n",
      "3     8\n",
      "4    12\n",
      "5     2\n",
      "6    20\n",
      "dtype: int64\n"
     ]
    }
   ],
   "source": [
    "# 시리즈의 연산\n",
    "s2 = pd.Series([1, 5, 8, 4, 6, 1, 10])\n",
    "print(s2)\n",
    "\n",
    "# 시리즈와 스칼라 데이터의 연산\n",
    "print('s2 * 2:\\n', s2 * 2)"
   ]
  },
  {
   "cell_type": "code",
   "execution_count": 21,
   "id": "6924e097",
   "metadata": {},
   "outputs": [
    {
     "name": "stdout",
     "output_type": "stream",
     "text": [
      "0     2\n",
      "1     7\n",
      "2    11\n",
      "3     8\n",
      "4    11\n",
      "5     7\n",
      "6    17\n",
      "dtype: int64\n"
     ]
    }
   ],
   "source": [
    "# 시리즈와 시리즈의 연산\n",
    "s3 = pd.Series([1, 2, 3, 4, 5, 6, 7])\n",
    "print(s2 + s3)"
   ]
  }
 ],
 "metadata": {
  "kernelspec": {
   "display_name": "Python 3 (ipykernel)",
   "language": "python",
   "name": "python3"
  },
  "language_info": {
   "codemirror_mode": {
    "name": "ipython",
    "version": 3
   },
   "file_extension": ".py",
   "mimetype": "text/x-python",
   "name": "python",
   "nbconvert_exporter": "python",
   "pygments_lexer": "ipython3",
   "version": "3.10.9"
  }
 },
 "nbformat": 4,
 "nbformat_minor": 5
}
